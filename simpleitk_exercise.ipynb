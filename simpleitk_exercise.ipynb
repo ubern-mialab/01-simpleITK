{
  "nbformat": 4,
  "nbformat_minor": 0,
  "metadata": {
    "colab": {
      "provenance": []
    },
    "kernelspec": {
      "name": "python3",
      "display_name": "Python 3"
    },
    "language_info": {
      "name": "python"
    }
  },
  "cells": [
    {
      "cell_type": "markdown",
      "source": [
        "# SimpleITK Exercise\n",
        "\n",
        "This notebook includes code to get started with MIALab, where you will learn how it interacts with SimpleITK (a python library that helps read/write, and process medical image data).\n",
        "\n",
        "Click on the \"Open in Colab\" button below to get started! If you have already made changes to this file, please instead download it and then open it in Google Colab manually."
      ],
      "metadata": {
        "id": "OuPLuXR9DqWX"
      }
    },
    {
      "cell_type": "markdown",
      "source": [
        "<a target=\"_blank\" href=\"https://colab.research.google.com/github/ubern-mialab/01-simpleITK/blob/main/simpleitk_exercise.ipynb\">\n",
        "  <img src=\"https://colab.research.google.com/assets/colab-badge.svg\" alt=\"Open In Colab\"/>\n",
        "</a>"
      ],
      "metadata": {
        "id": "YUHs0fUuDn-9"
      }
    },
    {
      "cell_type": "markdown",
      "source": [
        "First, we will install the required dependencies - from the mialab repository."
      ],
      "metadata": {
        "id": "JjFjmML8D_e6"
      }
    },
    {
      "cell_type": "code",
      "execution_count": null,
      "metadata": {
        "id": "dts6r8HZipgd"
      },
      "outputs": [],
      "source": [
        "pip install git+https://github.com/ubern-mia/mialab.git"
      ]
    },
    {
      "cell_type": "markdown",
      "source": [
        "Next, we will import packages that are necessary to run the code that you are going to modify next."
      ],
      "metadata": {
        "id": "zFCx5KdWEGg7"
      }
    },
    {
      "cell_type": "code",
      "source": [
        "import sys\n",
        "import os\n",
        "import zipfile\n",
        "\n",
        "import SimpleITK as sitk\n",
        "import pymia.filtering.filter as fltr\n",
        "import pymia.filtering.registration as fltr_reg\n",
        "\n",
        "import mialab.data.structure as structure\n",
        "import mialab.utilities.file_access_utilities as futil\n",
        "import exercise.helper as helper"
      ],
      "metadata": {
        "id": "CJqncEzYi2Ah"
      },
      "execution_count": 4,
      "outputs": []
    },
    {
      "cell_type": "markdown",
      "source": [
        "This section contains code that you need to modify. Please search for all lines that include 'todo', and make changes as instructed to complete the functions."
      ],
      "metadata": {
        "id": "qhck0y15EOPz"
      }
    },
    {
      "cell_type": "code",
      "source": [
        "def collect_image_paths(data_dir):\n",
        "    image_keys = [structure.BrainImageTypes.T1w,\n",
        "                  structure.BrainImageTypes.GroundTruth]\n",
        "\n",
        "    class MyFilePathGenerator(futil.FilePathGenerator):\n",
        "        @staticmethod\n",
        "        def get_full_file_path(id_: str, root_dir: str, file_key, file_extension: str) -> str:\n",
        "            if file_key == structure.BrainImageTypes.T1w:\n",
        "                file_name = 'T1native'\n",
        "            elif file_key == structure.BrainImageTypes.GroundTruth:\n",
        "                file_name = 'labels_native'\n",
        "            else:\n",
        "                raise ValueError('Unknown key')\n",
        "            return os.path.join(root_dir, file_name + file_extension)\n",
        "\n",
        "    dir_filter = futil.DataDirectoryFilter()\n",
        "\n",
        "    # todo: create an instance of futil.FileSystemDataCrawler and pass the corresponding arguments\n",
        "    crawler_ = None  # todo: modify here\n",
        "\n",
        "    return crawler_\n",
        "\n",
        "\n",
        "def load_images(image_paths):\n",
        "    # todo: read the images (T1 as sitk.sitkFloat32, GroundTruth as sitk.sitkUInt8)\n",
        "    image_dict = {\n",
        "        structure.BrainImageTypes.T1w: None,  # todo: modify here\n",
        "        structure.BrainImageTypes.GroundTruth: None  # todo: modify here\n",
        "    }\n",
        "\n",
        "    return image_dict\n",
        "\n",
        "\n",
        "def register_images(image_dict, atlas_img):\n",
        "    registration = fltr_reg.MultiModalRegistration()\n",
        "    registration_params = fltr_reg.MultiModalRegistrationParams(atlas_img)\n",
        "    # todo execute the registration with the T1-weighted image and the registration parameters\n",
        "    registered_t1 = None  # todo: modify here\n",
        "\n",
        "    gt_img = image_dict[structure.BrainImageTypes.GroundTruth]\n",
        "    # todo: apply transform to GroundTruth image (gt_img) (hint: sitk.Resample, referenceImage=atlas_img,\n",
        "    #  transform=registration.transform, interpolator=sitk.sitkNearestNeighbor\n",
        "    registered_gt = None  # todo: modify here\n",
        "\n",
        "    return registered_t1, registered_gt\n",
        "\n",
        "\n",
        "def preprocess_filter_rescale_t1(image_dict, new_min_val, new_max_val):\n",
        "    class MinMaxRescaleFilterParams(fltr.FilterParams):\n",
        "        def __init__(self, min_, max_) -> None:\n",
        "            super().__init__()\n",
        "            self.min = min_\n",
        "            self.max = max_\n",
        "\n",
        "    class MinMaxRescaleFilter(fltr.Filter):\n",
        "        def execute(self, img: sitk.Image, params: MinMaxRescaleFilterParams = None) -> sitk.Image:\n",
        "            rescaled_img = sitk.RescaleIntensity(img, params.min, params.max)\n",
        "            return rescaled_img\n",
        "\n",
        "    # todo: use the above filter and parameters to get the rescaled T1-weighted image\n",
        "    filter_ = None  # todo: modify here\n",
        "    filter_params = None  # todo: modify here\n",
        "    minmax_rescaled_img = None  # todo: modify here\n",
        "\n",
        "    return minmax_rescaled_img\n",
        "\n",
        "\n",
        "def extract_feature_median_t1(image_dict):\n",
        "    class MedianFilter(fltr.Filter):\n",
        "        def execute(self, img: sitk.Image, params: fltr.FilterParams = None) -> sitk.Image:\n",
        "            med_img = sitk.Median(img)\n",
        "            return med_img\n",
        "\n",
        "    # todo: use the above filter class to get the median image feature of the T1-weighted image\n",
        "    filter_ = None  # todo: modify here\n",
        "    median_img = None  # todo: modify here\n",
        "\n",
        "    return median_img"
      ],
      "metadata": {
        "id": "MsfyTGETirem"
      },
      "execution_count": 10,
      "outputs": []
    },
    {
      "cell_type": "markdown",
      "source": [
        "To run the code you have modified above, you need to load image data. Please follow the instructions below to do this."
      ],
      "metadata": {
        "id": "xtOiV0WdEZ47"
      }
    },
    {
      "cell_type": "markdown",
      "source": [
        "![load-data.png](data:image/png;base64,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)\n",
        "\n",
        "Use the Files tab on the left to upload the exercise file .zip file to the instance. This .zip file should be provided to you by the instructors. Your instance should now have access to the exercise.zip file for the next section to run without errors."
      ],
      "metadata": {
        "id": "FZ2aVXiMnUNi"
      }
    },
    {
      "cell_type": "markdown",
      "source": [
        "The following section unzips the data and loads it in the filesystem for this instance."
      ],
      "metadata": {
        "id": "_uQL6efVEj_4"
      }
    },
    {
      "cell_type": "code",
      "source": [
        "zip_ref = zipfile.ZipFile(\"/content/exercise.zip\", 'r')\n",
        "zip_ref.extractall(\"/content/\")\n",
        "zip_ref.close()"
      ],
      "metadata": {
        "id": "R33yGhwlnuVn"
      },
      "execution_count": 8,
      "outputs": []
    },
    {
      "cell_type": "markdown",
      "source": [
        "Run the section below to run tests to check if you have implemented the functions correctly. The outputs should indicate if you passed or not."
      ],
      "metadata": {
        "id": "UusXHgc3EsPM"
      }
    },
    {
      "cell_type": "code",
      "source": [
        "# --- DO NOT CHANGE\n",
        "\n",
        "callback = helper.TestCallback()\n",
        "callback.start('Pipeline')\n",
        "\n",
        "callback.start_test('collect_image_paths')\n",
        "crawler = collect_image_paths('/content/exercise')\n",
        "if isinstance(crawler, futil.FileSystemDataCrawler):\n",
        "    image_paths_ = crawler.data\n",
        "    subject_x_paths = image_paths_.get('subjectX')  # only consider subjectX\n",
        "    identifier = subject_x_paths.pop('subjectX', '')\n",
        "    collect_ok = all((identifier.endswith('subjectX'),\n",
        "                        structure.BrainImageTypes.GroundTruth in subject_x_paths,\n",
        "                        structure.BrainImageTypes.T1w in subject_x_paths))\n",
        "else:\n",
        "    collect_ok = False\n",
        "    subject_x_paths = None  # for load_images\n",
        "callback.end_test(collect_ok)\n",
        "\n",
        "callback.start_test('load_images')\n",
        "if isinstance(subject_x_paths, dict):\n",
        "    subject_x_images = load_images(subject_x_paths)\n",
        "    image_type_ok = all(isinstance(img, sitk.Image) for img in subject_x_images.values())\n",
        "    load_ok = isinstance(subject_x_images, dict) and image_type_ok\n",
        "else:\n",
        "    load_ok = False\n",
        "    subject_x_images = None  # for preprocess_filter_rescale_t1\n",
        "callback.end_test(load_ok)\n",
        "\n",
        "callback.start_test('register_images')\n",
        "atlas_img_ = sitk.ReadImage('/content/exercise/mni_icbm152_t1_tal_nlin_sym_09a.nii.gz')\n",
        "if isinstance(subject_x_paths, dict):\n",
        "    registered_img, registered_gt_ = register_images(subject_x_images, atlas_img_)\n",
        "    if isinstance(registered_img, sitk.Image) and isinstance(registered_gt_, sitk.Image):\n",
        "        stats = sitk.LabelStatisticsImageFilter()\n",
        "        stats.Execute(registered_img, registered_gt_)\n",
        "        labels = tuple(sorted(stats.GetLabels()))\n",
        "        register_ok = registered_img.GetSize() == registered_gt_.GetSize() == (197, 233, 189) and labels == tuple(\n",
        "            range(6))\n",
        "    else:\n",
        "        register_ok = False\n",
        "else:\n",
        "    register_ok = False\n",
        "callback.end_test(register_ok)\n",
        "\n",
        "callback.start_test('preprocess_filter_rescale_t1')\n",
        "if isinstance(subject_x_images, dict):\n",
        "    pre_rescale = preprocess_filter_rescale_t1(subject_x_images, -3, 101)\n",
        "    if isinstance(pre_rescale, sitk.Image):\n",
        "        min_max = sitk.MinimumMaximumImageFilter()\n",
        "        min_max.Execute(pre_rescale)\n",
        "        pre_ok = min_max.GetMinimum() == -3 and min_max.GetMaximum() == 101\n",
        "    else:\n",
        "        pre_ok = False\n",
        "else:\n",
        "    pre_ok = False\n",
        "callback.end_test(pre_ok)\n",
        "\n",
        "callback.start_test('extract_feature_median_t1')\n",
        "if isinstance(subject_x_images, dict):\n",
        "    median_img_ = extract_feature_median_t1(subject_x_images)\n",
        "    if isinstance(median_img_, sitk.Image):\n",
        "        median_ref = sitk.ReadImage('/content/exercise/subjectX/T1med.nii.gz')\n",
        "        min_max = sitk.MinimumMaximumImageFilter()\n",
        "        min_max.Execute(median_img_ - median_ref)\n",
        "        median_ok = min_max.GetMinimum() == 0 and min_max.GetMaximum() == 0\n",
        "    else:\n",
        "        median_ok = False\n",
        "else:\n",
        "    median_ok = False\n",
        "callback.end_test(median_ok)\n",
        "\n",
        "callback.end()"
      ],
      "metadata": {
        "colab": {
          "base_uri": "https://localhost:8080/"
        },
        "id": "3pFrYIgiiui6",
        "outputId": "4cb1b023-22bd-4d1f-de1d-20f044ff05b0"
      },
      "execution_count": 11,
      "outputs": [
        {
          "output_type": "stream",
          "name": "stdout",
          "text": [
            "\n",
            "------- Pipeline Exercise ----------\n",
            "\n",
            "collect_image_paths:\tfailed\n",
            "load_images:\tfailed\n",
            "register_images:\tfailed\n",
            "preprocess_filter_rescale_t1:\tfailed\n",
            "extract_feature_median_t1:\tfailed\n",
            "\n",
            "------ 5 tests failed. Keep on trying! --------\n"
          ]
        }
      ]
    },
    {
      "cell_type": "markdown",
      "source": [
        "Once all the tests pass (or you've tried your best until the deadline), please download this notebook using the File --> Download --> Download .ipynb option. Then, go back to your GitHub repository for the assignment, and upload this file and commit the change to submit your assignment!"
      ],
      "metadata": {
        "id": "cKW9zQip66Vo"
      }
    }
  ]
}
